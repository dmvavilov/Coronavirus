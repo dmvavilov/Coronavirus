{
 "cells": [
  {
   "cell_type": "code",
   "execution_count": 6,
   "metadata": {
    "collapsed": true
   },
   "outputs": [
    {
     "name": "stderr",
     "output_type": "stream",
     "text": [
      "Warning message:\n",
      "\"package 'readxl' was built under R version 3.6.3\""
     ]
    }
   ],
   "source": [
    "library(tseries)\n",
    "library(xts)\n",
    "library(fGarch)\n",
    "library(readxl)"
   ]
  },
  {
   "cell_type": "code",
   "execution_count": 3,
   "metadata": {},
   "outputs": [],
   "source": [
    "garchAutoTryFit = function(\n",
    "  ll,\n",
    "  data,\n",
    "  trace=FALSE,\n",
    "  forecast.length=1,\n",
    "  with.forecast=TRUE,\n",
    "  ic=\"AIC\",\n",
    "  garch.model=\"garch\" )\n",
    "{\n",
    "  formula = as.formula( paste( sep=\"\",\n",
    "                               \"~ arma(\", ll$order[1], \",\", ll$order[2], \")+\",\n",
    "                               garch.model,\n",
    "                               \"(\", ll$order[3], \",\", ll$order[4], \")\" ) )\n",
    "  fit = tryCatch( garchFit( formula=formula,\n",
    "                            data=data,\n",
    "                            trace=FALSE,\n",
    "                            cond.dist=ll$dist ),\n",
    "                  error=function( err ) TRUE,\n",
    "                  warning=function( warn ) FALSE )\n",
    "  \n",
    "  pp = NULL\n",
    "  \n",
    "  if( !is.logical( fit ) ) {\n",
    "    if( with.forecast ) {\n",
    "      pp = tryCatch( predict( fit,\n",
    "                              n.ahead=forecast.length,\n",
    "                              doplot=FALSE ),\n",
    "                     error=function( err ) FALSE,\n",
    "                     warning=function( warn ) FALSE )\n",
    "      if( is.logical( pp ) ) {\n",
    "        fit = NULL\n",
    "      }\n",
    "    }\n",
    "  } else {\n",
    "    fit = NULL\n",
    "  }\n",
    "  \n",
    "  if( trace ) {\n",
    "    if( is.null( fit ) ) {\n",
    "      cat( paste( sep=\"\",\n",
    "                  \"   Analyzing (\", ll$order[1], \",\", ll$order[2],\n",
    "                  \",\", ll$order[3], \",\", ll$order[4], \") with \",\n",
    "                  ll$dist, \" distribution done.\",\n",
    "                  \"Bad model.\\n\" ) )\n",
    "    } else {\n",
    "      if( with.forecast ) {\n",
    "        cat( paste( sep=\"\",\n",
    "                    \"   Analyzing (\", ll$order[1], \",\", ll$order[2], \",\",\n",
    "                    ll$order[3], \",\", ll$order[4], \") with \",\n",
    "                    ll$dist, \" distribution done.\",\n",
    "                    \"Good model. \", ic, \" = \", round(fit@fit$ics[[ic]],6),\n",
    "                    \", forecast: \",\n",
    "                    paste( collapse=\",\", round(pp[,1],4) ), \"\\n\" ) )\n",
    "      } else {\n",
    "        cat( paste( sep=\"\",\n",
    "                    \"   Analyzing (\", ll[1], \",\", ll[2], \",\", ll[3], \",\", ll[4], \") with \",\n",
    "                    ll$dist, \" distribution done.\",\n",
    "                    \"Good model. \", ic, \" = \", round(fit@fit$ics[[ic]],6), \"\\n\" ) )\n",
    "      }\n",
    "    }\n",
    "  }\n",
    "  \n",
    "  return( fit )\n",
    "}\n",
    "\n",
    "garchAuto = function(\n",
    "  xx,\n",
    "  min.order=c(0,0,1,1),\n",
    "  max.order=c(5,5,2,2),\n",
    "  trace=FALSE,\n",
    "  cond.dists=\"sged\",\n",
    "  with.forecast=TRUE,\n",
    "  forecast.length=1,\n",
    "  arma.sum=c(0,1e9),\n",
    "  cores=1,\n",
    "  ic=\"AIC\",\n",
    "  garch.model=\"garch\" )\n",
    "{\n",
    "  require( fGarch )\n",
    "  require( parallel )\n",
    "  \n",
    "  len = NROW( xx )\n",
    "  \n",
    "  models = list( )\n",
    "  \n",
    "  for( dist in cond.dists )\n",
    "    for( p in min.order[1]:max.order[1] )\n",
    "      for( q in min.order[2]:max.order[2] )\n",
    "        for( r in min.order[3]:max.order[3] )\n",
    "          for( s in min.order[4]:max.order[4] )\n",
    "          {\n",
    "            pq.sum = p + q\n",
    "            if( pq.sum <= arma.sum[2] && pq.sum >= arma.sum[1] )\n",
    "            {\n",
    "              models[[length( models ) + 1]] = list( order=c( p, q, r, s ), dist=dist )\n",
    "            }\n",
    "          }\n",
    "  \n",
    "  res = mclapply( models,\n",
    "                  garchAutoTryFit,\n",
    "                  data=xx,\n",
    "                  trace=trace,\n",
    "                  ic=ic,\n",
    "                  garch.model=garch.model,\n",
    "                  forecast.length=forecast.length,\n",
    "                  with.forecast=TRUE,\n",
    "                  mc.cores=cores )\n",
    "  \n",
    "  best.fit = NULL\n",
    "  \n",
    "  best.ic = 1e9\n",
    "  for( rr in res )\n",
    "  {\n",
    "    if( !is.null( rr ) )\n",
    "    {\n",
    "      current.ic = rr@fit$ics[[ic]]\n",
    "      if( current.ic < best.ic )\n",
    "      {\n",
    "        best.ic = current.ic\n",
    "        best.fit = rr\n",
    "      }\n",
    "    }\n",
    "  }\n",
    "  \n",
    "  if( best.ic < 1e9 )\n",
    "  {\n",
    "    return( best.fit )\n",
    "  }\n",
    "  \n",
    "  return( NULL )\n",
    "    }"
   ]
  },
  {
   "cell_type": "code",
   "execution_count": 4,
   "metadata": {},
   "outputs": [],
   "source": [
    "data_frame_to_xts <- function(df, ...){\n",
    "  df <- as.data.frame(df) \n",
    "  #df$date = as.Date(df$date) \n",
    "  ts = xts(df[,-1], order.by = df[,1]) \n",
    "  return(ts) }"
   ]
  },
  {
   "cell_type": "code",
   "execution_count": 7,
   "metadata": {},
   "outputs": [],
   "source": [
    "Corona <- read_excel(\"C:/Users/Митя/Desktop/Corona.xlsx\")"
   ]
  },
  {
   "cell_type": "code",
   "execution_count": 8,
   "metadata": {},
   "outputs": [],
   "source": [
    "df <- Corona"
   ]
  },
  {
   "cell_type": "code",
   "execution_count": 9,
   "metadata": {},
   "outputs": [],
   "source": [
    "Corona <- data_frame_to_xts(Corona)"
   ]
  },
  {
   "cell_type": "code",
   "execution_count": 10,
   "metadata": {},
   "outputs": [
    {
     "name": "stderr",
     "output_type": "stream",
     "text": [
      "Warning message in adf.test(Corona):\n",
      "\"p-value smaller than printed p-value\""
     ]
    },
    {
     "data": {
      "text/plain": [
       "\n",
       "\tAugmented Dickey-Fuller Test\n",
       "\n",
       "data:  Corona\n",
       "Dickey-Fuller = -4.6114, Lag order = 2, p-value = 0.01\n",
       "alternative hypothesis: stationary\n"
      ]
     },
     "metadata": {},
     "output_type": "display_data"
    }
   ],
   "source": [
    "adf.test(Corona)"
   ]
  },
  {
   "cell_type": "code",
   "execution_count": 11,
   "metadata": {},
   "outputs": [
    {
     "data": {
      "image/png": "[encoded data removed]",
      "text/plain": [
       "plot without title"
      ]
     },
     "metadata": {},
     "output_type": "display_data"
    }
   ],
   "source": [
    "plot(Corona)"
   ]
  },
  {
   "cell_type": "code",
   "execution_count": 12,
   "metadata": {},
   "outputs": [
    {
     "data": {
      "text/plain": [
       "\n",
       "\tAugmented Dickey-Fuller Test\n",
       "\n",
       "data:  Corona\n",
       "Dickey-Fuller = -1.5851, Lag order = 2, p-value = 0.7305\n",
       "alternative hypothesis: stationary\n"
      ]
     },
     "metadata": {},
     "output_type": "display_data"
    }
   ],
   "source": [
    "lag = 2\n",
    "Corona <- diff(log(Corona), lag = lag)\n",
    "Corona <- Corona[-c(1:lag),]\n",
    "adf.test(Corona)"
   ]
  },
  {
   "cell_type": "code",
   "execution_count": 13,
   "metadata": {},
   "outputs": [
    {
     "data": {
      "image/png": "[encoded data removed]",
      "text/plain": [
       "plot without title"
      ]
     },
     "metadata": {},
     "output_type": "display_data"
    }
   ],
   "source": [
    "plot(Corona)"
   ]
  },
  {
   "cell_type": "code",
   "execution_count": 14,
   "metadata": {},
   "outputs": [
    {
     "name": "stderr",
     "output_type": "stream",
     "text": [
      "Loading required package: parallel\n"
     ]
    }
   ],
   "source": [
    "m1 <- garchAuto(Corona, with.forecast = TRUE, forecast.length = 100, trace = FALSE)"
   ]
  },
  {
   "cell_type": "code",
   "execution_count": 16,
   "metadata": {},
   "outputs": [
    {
     "name": "stdout",
     "output_type": "stream",
     "text": [
      "\n",
      "Title:\n",
      " GARCH Modelling \n",
      "\n",
      "Call:\n",
      " garchFit(formula = formula, data = data, cond.dist = ll$dist, \n",
      "    trace = FALSE) \n",
      "\n",
      "Mean and Variance Equation:\n",
      " data ~ arma(1, 5) + garch(1, 2)\n",
      "<environment: 0x000000004be64818>\n",
      " [data = data]\n",
      "\n",
      "Conditional Distribution:\n",
      " sged \n",
      "\n",
      "Coefficient(s):\n",
      "         mu          ar1          ma1          ma2          ma3          ma4  \n",
      "-1.9313e-03   9.7102e-01   7.3493e-01   3.9766e-01   6.0996e-01   4.9719e-01  \n",
      "        ma5        omega       alpha1        beta1        beta2         skew  \n",
      " 1.7927e-01   5.6269e-09   1.0000e+00   1.0000e-08   1.0000e-08   2.1734e+00  \n",
      "      shape  \n",
      " 1.0000e+00  \n",
      "\n",
      "Std. Errors:\n",
      " based on Hessian \n",
      "\n",
      "Error Analysis:\n",
      "         Estimate  Std. Error  t value Pr(>|t|)    \n",
      "mu     -1.931e-03   7.973e-05  -24.223   <2e-16 ***\n",
      "ar1     9.710e-01   2.906e-04 3340.981   <2e-16 ***\n",
      "ma1     7.349e-01   7.970e-03   92.215   <2e-16 ***\n",
      "ma2     3.977e-01   5.975e-03   66.552   <2e-16 ***\n",
      "ma3     6.100e-01   5.599e-03  108.937   <2e-16 ***\n",
      "ma4     4.972e-01   7.585e-03   65.552   <2e-16 ***\n",
      "ma5     1.793e-01   6.336e-03   28.296   <2e-16 ***\n",
      "omega   5.627e-09   1.190e-06    0.005    0.996    \n",
      "alpha1  1.000e+00   6.595e-02   15.164   <2e-16 ***\n",
      "beta1   1.000e-08   5.207e-03    0.000    1.000    \n",
      "beta2   1.000e-08   6.703e-03    0.000    1.000    \n",
      "skew    2.173e+00   4.223e-02   51.467   <2e-16 ***\n",
      "shape   1.000e+00   7.353e-02   13.601   <2e-16 ***\n",
      "---\n",
      "Signif. codes:  0 '***' 0.001 '**' 0.01 '*' 0.05 '.' 0.1 ' ' 1\n",
      "\n",
      "Log Likelihood:\n",
      " 120.5205    normalized:  5.739074 \n",
      "\n",
      "Description:\n",
      " Thu Apr 02 19:33:09 2020 by user: Митя \n",
      "\n",
      "\n",
      "Standardised Residuals Tests:\n",
      "                                Statistic p-Value    \n",
      " Jarque-Bera Test   R    Chi^2  5.406151  0.06699912 \n",
      " Shapiro-Wilk Test  R    W      0.8664253 0.008259146\n",
      " Ljung-Box Test     R    Q(10)  3.716685  0.9592241  \n",
      " Ljung-Box Test     R    Q(15)  9.780394  0.8333216  \n",
      " Ljung-Box Test     R    Q(20)  10.89619  0.9488703  \n",
      " Ljung-Box Test     R^2  Q(10)  6.884897  0.7362648  \n",
      " Ljung-Box Test     R^2  Q(15)  7.694992  0.9354279  \n",
      " Ljung-Box Test     R^2  Q(20)  8.254874  0.9900427  \n",
      " LM Arch Test       R    TR^2   9         0.7029304  \n",
      "\n",
      "Information Criterion Statistics:\n",
      "       AIC        BIC        SIC       HQIC \n",
      "-10.240052  -9.593443 -10.672522 -10.099721 \n",
      "\n"
     ]
    }
   ],
   "source": [
    "summary(m1)"
   ]
  },
  {
   "cell_type": "code",
   "execution_count": 44,
   "metadata": {},
   "outputs": [],
   "source": [
    "PRED <- predict(m1, n.ahead = 100)[1:100,1]\n",
    "PRED <- as.data.frame(PRED)"
   ]
  },
  {
   "cell_type": "code",
   "execution_count": 45,
   "metadata": {},
   "outputs": [],
   "source": [
    "tom = as.Date('2020-04-02')"
   ]
  },
  {
   "cell_type": "code",
   "execution_count": 46,
   "metadata": {},
   "outputs": [],
   "source": [
    "dates_for_pred <- NULL\n",
    "dates_for_pred <- as.data.frame(dates_for_pred)\n",
    "for (i in 1:100) {\n",
    "  dates_for_pred[i,1] <- tom + i -1\n",
    "}"
   ]
  },
  {
   "cell_type": "code",
   "execution_count": 47,
   "metadata": {},
   "outputs": [],
   "source": [
    "PRED <- cbind(dates_for_pred, PRED)\n",
    "colnames(PRED) <- c('Date', 'Val')\n",
    "PRED <- data_frame_to_xts(PRED)"
   ]
  },
  {
   "cell_type": "code",
   "execution_count": 48,
   "metadata": {},
   "outputs": [],
   "source": [
    "REAL_PRED <- rbind(Corona, PRED)"
   ]
  },
  {
   "cell_type": "code",
   "execution_count": 49,
   "metadata": {},
   "outputs": [],
   "source": [
    "rows <- df[1:2,]\n",
    "rows <- data_frame_to_xts(rows)\n",
    "REAL_PRED <- rbind(rows, REAL_PRED)"
   ]
  },
  {
   "cell_type": "code",
   "execution_count": 50,
   "metadata": {},
   "outputs": [],
   "source": [
    "for (i in 3:nrow(REAL_PRED)) {\n",
    "  REAL_PRED[i] <- as.numeric(REAL_PRED[(i-2)])*exp(as.numeric(REAL_PRED[i]))\n",
    "}"
   ]
  },
  {
   "cell_type": "code",
   "execution_count": 53,
   "metadata": {},
   "outputs": [],
   "source": [
    "REAL_PRED <- round(REAL_PRED, digits = 0)"
   ]
  },
  {
   "cell_type": "code",
   "execution_count": 68,
   "metadata": {
    "scrolled": false
   },
   "outputs": [
    {
     "data": {
      "image/png": "[encoded data removed]",
      "text/plain": [
       "plot without title"
      ]
     },
     "metadata": {},
     "output_type": "display_data"
    },
    {
     "data": {
      "image/png": "[encoded data removed]",
      "text/plain": [
       "plot without title"
      ]
     },
     "metadata": {},
     "output_type": "display_data"
    }
   ],
   "source": [
    "plot(REAL_PRED, col = 'blue', ylab = 'Number of Cases', main = 'Coronavirus in Russia')\n",
    "lines(REAL_PRED['2020-04-01::'], col = 'red', lwd = 3)"
   ]
  },
  {
   "cell_type": "code",
   "execution_count": 69,
   "metadata": {
    "scrolled": true
   },
   "outputs": [
    {
     "name": "stderr",
     "output_type": "stream",
     "text": [
      "Warning message:\n",
      "\"timezone of object (UTC) is different than current timezone ().\""
     ]
    },
    {
     "data": {
      "text/plain": [
       "            [,1]\n",
       "2020-06-01 92640"
      ]
     },
     "metadata": {},
     "output_type": "display_data"
    }
   ],
   "source": [
    "REAL_PRED[which(REAL_PRED == max(REAL_PRED)),]"
   ]
  }
 ],
 "metadata": {
  "kernelspec": {
   "display_name": "R",
   "language": "R",
   "name": "ir"
  },
  "language_info": {
   "codemirror_mode": "r",
   "file_extension": ".r",
   "mimetype": "text/x-r-source",
   "name": "R",
   "pygments_lexer": "r",
   "version": "3.6.1"
  }
 },
 "nbformat": 4,
 "nbformat_minor": 4
}
